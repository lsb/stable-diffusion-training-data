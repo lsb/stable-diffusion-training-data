{
 "cells": [
  {
   "cell_type": "code",
   "execution_count": null,
   "id": "1563dfd6",
   "metadata": {},
   "outputs": [],
   "source": [
    "! nvidia-smi"
   ]
  },
  {
   "cell_type": "code",
   "execution_count": null,
   "id": "603d3167",
   "metadata": {},
   "outputs": [],
   "source": [
    "# ! apt update && apt install -y git build-essential\n",
    "# ! pip install --upgrade torch\n",
    "! pip install --upgrade transformers triton diffusers accelerate tqdm ipywidgets"
   ]
  },
  {
   "cell_type": "code",
   "execution_count": null,
   "id": "ec8992d7",
   "metadata": {},
   "outputs": [],
   "source": [
    "# ! cd /tmp && (rm -r xformers || true) && git clone https://github.com/facebookresearch/xformers.git && cd xformers && git submodule update --init --recursive && pip install -r requirements.txt && pip install -e ."
   ]
  },
  {
   "cell_type": "code",
   "execution_count": null,
   "id": "38907afa",
   "metadata": {},
   "outputs": [],
   "source": [
    "! mkdir -p goodsd badsd dcimsd"
   ]
  },
  {
   "cell_type": "code",
   "execution_count": null,
   "id": "9d239c3a",
   "metadata": {},
   "outputs": [],
   "source": [
    "import torch\n",
    "from tqdm import tqdm\n",
    "from time import time\n",
    "from diffusers import StableDiffusionPipeline\n",
    "\n",
    "pipe = StableDiffusionPipeline.from_pretrained(\n",
    "    \"runwayml/stable-diffusion-v1-5\",\n",
    "    torch_dtype=torch.float16,\n",
    ").to(\"cuda\")\n",
    "pipe.enable_attention_slicing()\n"
   ]
  },
  {
   "cell_type": "code",
   "execution_count": null,
   "id": "45286071",
   "metadata": {},
   "outputs": [],
   "source": []
  },
  {
   "cell_type": "code",
   "execution_count": null,
   "id": "ac3aae76",
   "metadata": {},
   "outputs": [],
   "source": []
  },
  {
   "cell_type": "code",
   "execution_count": null,
   "id": "66beea10",
   "metadata": {},
   "outputs": [],
   "source": []
  },
  {
   "cell_type": "code",
   "execution_count": null,
   "id": "2cec2220",
   "metadata": {},
   "outputs": [],
   "source": []
  },
  {
   "cell_type": "code",
   "execution_count": null,
   "id": "e269361f",
   "metadata": {},
   "outputs": [],
   "source": [
    "spider10 = pipe(\"a spider\", num_inference_steps=10).images[0]\n",
    "#spider5.save(\"spider 5.jpg\")\n",
    "spider10"
   ]
  },
  {
   "cell_type": "code",
   "execution_count": null,
   "id": "811d1986",
   "metadata": {},
   "outputs": [],
   "source": [
    "good_subjects = [\n",
    "    \"a friend facing the camera\",\n",
    "    \"two friends facing the camera\",\n",
    "    \"two friends talking to each other\",\n",
    "    \"three friends facing the camera\",\n",
    "    \"three friends talking to each other\"\n",
    "]\n",
    "ethnicities = [\"multiethnic, clear\", \"clear\"]\n",
    "backgrounds = [\"on a busy street\", \"on a mountain\", \"on the waterfront\"]\n",
    "timing = [\"at golden hour\", \"at sunrise\", \"at night\", \"midday\"]\n",
    "bad_subjects = [\n",
    "    \"a spider\",\n",
    "    \"a horse\",\n",
    "    \"a tomato\",\n",
    "    \"butterflies\",\n",
    "    \"a flower in bloom\",\n",
    "    \"container port\",\n",
    "    \"urban decay\",\n",
    "    \"blurry\",\n",
    "    \"text in a book\",\n",
    "    \"commercial billboard with graffiti\",\n",
    "]\n"
   ]
  },
  {
   "cell_type": "code",
   "execution_count": null,
   "id": "9a768675",
   "metadata": {},
   "outputs": [],
   "source": [
    "good_pictures = [f\"photo of {s}, {e}, {b}, {t}\" for s in good_subjects for e in ethnicities for b in backgrounds for t in timing]\n",
    "good_pictures"
   ]
  },
  {
   "cell_type": "code",
   "execution_count": null,
   "id": "db98e6b5",
   "metadata": {},
   "outputs": [],
   "source": [
    "bad_pictures = [f\"photo of {s}, {b}, {t}\" for s in bad_subjects for b in backgrounds for t in timing]\n",
    "bad_pictures"
   ]
  },
  {
   "cell_type": "code",
   "execution_count": null,
   "id": "58adc8b2",
   "metadata": {},
   "outputs": [],
   "source": [
    "(len(good_pictures), len(bad_pictures))"
   ]
  },
  {
   "cell_type": "code",
   "execution_count": null,
   "id": "3e8ea6b9",
   "metadata": {},
   "outputs": [],
   "source": [
    "! mkdir -p good bad\n",
    "for p in good_pictures:\n",
    "    pipe(p).images[0].save(\"goodsd/\" + p + \".\" + str(int(time())) + \".5.jpg\")\n",
    "    for i in range(2):\n",
    "        pipe(p).images[0].save(\"dcimsd/\" + p + \".\" + str(int(time())) + \".5.jpg\")\n",
    "\n",
    "for p in bad_pictures:\n",
    "    pipe(p).images[0].save(\"badsd/\" + p + \".\" + str(int(time())) + \".5.jpg\")\n",
    "    for i in range(4):\n",
    "        pipe(p).images[0].save(\"dcimsd/\" + p + \".\" + str(int(time())) + \".5.jpg\")"
   ]
  },
  {
   "cell_type": "code",
   "execution_count": null,
   "id": "4887deef",
   "metadata": {},
   "outputs": [],
   "source": []
  }
 ],
 "metadata": {
  "language_info": {
   "name": "python",
   "pygments_lexer": "ipython3"
  }
 },
 "nbformat": 4,
 "nbformat_minor": 5
}
