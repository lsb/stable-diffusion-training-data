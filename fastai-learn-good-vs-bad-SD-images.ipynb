{
 "cells": [
  {
   "cell_type": "code",
   "execution_count": null,
   "id": "95830ecc",
   "metadata": {},
   "outputs": [],
   "source": [
    "! pip install fastai ipywidgets"
   ]
  },
  {
   "cell_type": "code",
   "execution_count": null,
   "id": "a6da71b9",
   "metadata": {},
   "outputs": [],
   "source": [
    "from fastai.vision.all import *\n",
    "from tqdm import tqdm"
   ]
  },
  {
   "cell_type": "code",
   "execution_count": null,
   "id": "c3faf9dc",
   "metadata": {},
   "outputs": [],
   "source": [
    "data = get_image_files(\"./good\") + get_image_files(\"./bad\")"
   ]
  },
  {
   "cell_type": "code",
   "execution_count": null,
   "id": "c893e374",
   "metadata": {},
   "outputs": [],
   "source": [
    "def good_bad_label(x): return x.parent.name\n",
    "\n",
    "dls = ImageDataLoaders.from_path_func(\".\", data, good_bad_label, bs=64, item_tfms=RandomResizedCrop(256))"
   ]
  },
  {
   "cell_type": "code",
   "execution_count": null,
   "id": "add3dd26",
   "metadata": {},
   "outputs": [],
   "source": [
    "dls.show_batch()"
   ]
  },
  {
   "cell_type": "code",
   "execution_count": null,
   "id": "75ee1599",
   "metadata": {},
   "outputs": [],
   "source": [
    "learn = vision_learner(\n",
    "    dls,\n",
    "    efficientnet_b0,\n",
    "    metrics=error_rate,\n",
    "    #cbs=[GradientAccumulation(28)],\n",
    ").to_fp16()\n",
    "lrfind = learn.lr_find()\n"
   ]
  },
  {
   "cell_type": "code",
   "execution_count": null,
   "id": "eb85eebd",
   "metadata": {},
   "outputs": [],
   "source": [
    "learn.fine_tune(5, lrfind.valley / 2)"
   ]
  },
  {
   "cell_type": "code",
   "execution_count": null,
   "id": "f4341caf",
   "metadata": {},
   "outputs": [],
   "source": [
    "learn.show_results(max_n=32)"
   ]
  },
  {
   "cell_type": "code",
   "execution_count": null,
   "id": "978ac442",
   "metadata": {},
   "outputs": [],
   "source": []
  },
  {
   "cell_type": "code",
   "execution_count": null,
   "id": "22bd1898",
   "metadata": {},
   "outputs": [],
   "source": [
    "pics = [p for p in (get_image_files(\"/home/lsb/DCIMsmol/\")) if 0 < p.stat().st_size]\n",
    "bulk_pic_dl = dls.test_dl(pics)"
   ]
  },
  {
   "cell_type": "code",
   "execution_count": null,
   "id": "92cfcb6c",
   "metadata": {},
   "outputs": [],
   "source": [
    "preds, targets = learn.get_preds(dl=bulk_pic_dl) # targets = None, because this is a test dataset"
   ]
  },
  {
   "cell_type": "code",
   "execution_count": null,
   "id": "4beeaa67",
   "metadata": {},
   "outputs": [],
   "source": [
    "pic_goodness = preds[:,list(learn.dls.vocab).index(\"good\")]\n",
    "pic_goodness"
   ]
  },
  {
   "cell_type": "code",
   "execution_count": null,
   "id": "a6e4389b",
   "metadata": {},
   "outputs": [],
   "source": [
    "import json"
   ]
  },
  {
   "cell_type": "code",
   "execution_count": null,
   "id": "e9a428e8",
   "metadata": {},
   "outputs": [],
   "source": [
    "with open(\"path_predictions.json\",\"w\") as f:\n",
    "    f.write(json.dumps({str(p): float(f) for (p,f) in zip(pics, pic_goodness)}))"
   ]
  },
  {
   "cell_type": "code",
   "execution_count": null,
   "id": "157b35f8",
   "metadata": {},
   "outputs": [],
   "source": [
    "manual_predictions = {}\n",
    "with open(\"manual_predictions.json\", \"w\") as f:\n",
    "    f.write(json.dumps(manual_predictions))"
   ]
  },
  {
   "cell_type": "code",
   "execution_count": null,
   "id": "668f0059",
   "metadata": {},
   "outputs": [],
   "source": []
  }
 ],
 "metadata": {
  "language_info": {
   "name": "python",
   "pygments_lexer": "ipython3"
  }
 },
 "nbformat": 4,
 "nbformat_minor": 5
}
